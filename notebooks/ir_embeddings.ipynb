{
 "cells": [
  {
   "cell_type": "code",
   "execution_count": 1,
   "metadata": {},
   "outputs": [
    {
     "data": {
      "text/plain": [
       "<module 'helpers' from '/home/ubuntu/joanna/VAE-IR/src/helpers.py'>"
      ]
     },
     "execution_count": 1,
     "metadata": {},
     "output_type": "execute_result"
    }
   ],
   "source": [
    "# Import external tools:\n",
    "import time \n",
    "import random\n",
    "from matplotlib import pyplot as plt\n",
    "import librosa\n",
    "import torch\n",
    "import torch.nn as nn\n",
    "from torch.utils.data import DataLoader, random_split\n",
    "from torch.utils.data.sampler import SubsetRandomSampler\n",
    "from torchsummary import summary\n",
    "import torchaudio\n",
    "import soundfile as sf\n",
    "from scipy import signal\n",
    "import getpass\n",
    "import pandas as pd\n",
    "import numpy as np\n",
    "import sys\n",
    "import os\n",
    "import importlib\n",
    "from scipy.io import wavfile\n",
    "from IPython.display import Audio\n",
    "from sklearn.manifold import TSNE\n",
    "from sklearn.decomposition import PCA\n",
    "\n",
    "# I am running this script on two different computers, so i need to change paths\n",
    "# depending on computer in use: \n",
    "if getpass.getuser()==\"joanna.luberadzka\":\n",
    "    projectdir=\"/Users/joanna.luberadzka/Documents/VAE-IR/\"\n",
    "    datadir=\"/Users/joanna.luberadzka/Documents/Data/IR_Arni_upload_numClosed_0-5/\"\n",
    "elif getpass.getuser()==\"ubuntu\":\n",
    "    projectdir=\"/home/ubuntu/joanna/VAE-IR/\"\n",
    "    datadir=\"/home/ubuntu/Data/IR_Arni_upload_numClosed_0-5/\"\n",
    "\n",
    "# Add path of this project\n",
    "sys.path.insert(0, projectdir+'src/')\n",
    "\n",
    "# Import and automatically reload my own modules:\n",
    "import models; importlib.reload(models)\n",
    "import train; importlib.reload(train)\n",
    "import datasetprep as dsprep; importlib.reload(dsprep)\n",
    "import helpers; importlib.reload(helpers)"
   ]
  },
  {
   "cell_type": "code",
   "execution_count": 19,
   "metadata": {},
   "outputs": [],
   "source": [
    "\n",
    "# load trained model:\n",
    "model=models.VAE_Lin(x_len=24000)\n",
    "model.load_state_dict(torch.load(projectdir + \"models/trained_model_30-01-2023--17-01.pth\"))\n",
    "# put the model in evaluation mode\n",
    "model.eval()\n",
    "\n",
    "# data:\n",
    "if getpass.getuser()==\"joanna.luberadzka\":\n",
    "    INFO_FILE = projectdir + \"irstats_ARNIandBUT_datura.csv\"\n",
    "elif getpass.getuser()==\"ubuntu\":\n",
    "    INFO_FILE = projectdir+\"irstats_ARNIandBUT_datura.csv\"\n",
    "\n",
    "SAMPLING_RATE=8e3\n",
    "# instantiate data set \n",
    "dataset = dsprep.DatasetRirs(INFO_FILE,SAMPLING_RATE)\n",
    "\n",
    "\n",
    "# *** Encoding: Using a trained variational autoencoder model, \n",
    "# generate a lower-dimensional embedding for each impulse response.\n",
    "\n",
    "embeddings_mu=[] # list for storing ir embeddings\n",
    "embeddings_rt=[] # list for storing rt values\n",
    "embeddings_drr=[] # list for storing drr values\n",
    "\n",
    "# take 100 random irs from the data set\n",
    "ir_rand_indices=random.sample(range(len(dataset)),100)\n",
    "\n",
    "for i in ir_rand_indices:\n",
    "    # get info of an impulse response with a specific index\n",
    "    ir, labels= dataset[i]\n",
    "    # encode the input into mu and sigma (standard in VAE)\n",
    "    mu, sigma = model.encode(ir)\n",
    "    # mu is the embedding (sigma provides additional info about the uncertainty of this embedding)   \n",
    "    emb = mu.squeeze(dim=0) \n",
    "    # convert to numpy array and append the list of embeddings\n",
    "    embeddings_mu.append(emb.detach().cpu().numpy())\n",
    "    embeddings_rt.append(labels[\"rt\"])\n",
    "    embeddings_drr.append(labels[\"drr\"])\n",
    "\n",
    "# covert from list of arrays to one array\n",
    "embeddings_mu=np.array(embeddings_mu)\n",
    "\n"
   ]
  },
  {
   "cell_type": "code",
   "execution_count": 20,
   "metadata": {},
   "outputs": [
    {
     "name": "stdout",
     "output_type": "stream",
     "text": [
      "[-5.5775046e-05 -5.4929405e-05 -1.2648851e-04 -1.8469989e-05\n",
      " -4.5292079e-05 -7.3164701e-06 -2.6520714e-04 -9.2893839e-05\n",
      " -1.9162893e-05  3.5941601e-05 -2.0563602e-05 -8.4578991e-05\n",
      "  4.9933791e-05  8.3841383e-05  4.7937036e-05  9.5590949e-06\n",
      "  2.3826957e-05  2.6520342e-05 -9.9837780e-06  5.0030649e-05\n",
      "  2.0414591e-06  4.0469691e-05 -3.4075230e-05  6.9808215e-05]\n",
      "[-5.5775046e-05 -5.4929405e-05 -1.2648851e-04 -1.8469989e-05\n",
      " -4.5292079e-05 -7.3164701e-06 -2.6520714e-04 -9.2893839e-05\n",
      " -1.9162893e-05  3.5941601e-05 -2.0563602e-05 -8.4578991e-05\n",
      "  4.9933791e-05  8.3841383e-05  4.7937036e-05  9.5590949e-06\n",
      "  2.3826957e-05  2.6520342e-05 -9.9837780e-06  5.0030649e-05\n",
      "  2.0414591e-06  4.0469691e-05 -3.4075230e-05  6.9808215e-05]\n",
      "[-5.5775046e-05 -5.4929405e-05 -1.2648851e-04 -1.8469989e-05\n",
      " -4.5292079e-05 -7.3164701e-06 -2.6520714e-04 -9.2893839e-05\n",
      " -1.9162893e-05  3.5941601e-05 -2.0563602e-05 -8.4578991e-05\n",
      "  4.9933791e-05  8.3841383e-05  4.7937036e-05  9.5590949e-06\n",
      "  2.3826957e-05  2.6520342e-05 -9.9837780e-06  5.0030649e-05\n",
      "  2.0414591e-06  4.0469691e-05 -3.4075230e-05  6.9808215e-05]\n"
     ]
    }
   ],
   "source": [
    "print(embeddings_mu[1])\n",
    "print(embeddings_mu[2])\n",
    "print(embeddings_mu[30])"
   ]
  },
  {
   "cell_type": "code",
   "execution_count": 21,
   "metadata": {},
   "outputs": [
    {
     "name": "stderr",
     "output_type": "stream",
     "text": [
      "/home/ubuntu/joanna/venvs/testenv/lib/python3.8/site-packages/sklearn/decomposition/_pca.py:545: RuntimeWarning: invalid value encountered in divide\n",
      "  explained_variance_ratio_ = explained_variance_ / total_var\n"
     ]
    },
    {
     "data": {
      "text/plain": [
       "<matplotlib.collections.PathCollection at 0x7f77a00a4f10>"
      ]
     },
     "execution_count": 21,
     "metadata": {},
     "output_type": "execute_result"
    },
    {
     "data": {
      "image/png": "[encoded data removed]",
      "text/plain": [
       "<Figure size 640x480 with 1 Axes>"
      ]
     },
     "metadata": {},
     "output_type": "display_data"
    }
   ],
   "source": [
    "\n",
    "# *** Visualization: To visualize each encoding, the D-dimensional embeddings \n",
    "# have to be reduced to 2 dimensions. This can be done with two methods: \n",
    "# PCA (linear) or TSNE (non-linear)\n",
    "embeddings_pca=PCA(n_components=2).fit_transform(embeddings_mu)\n",
    "embeddings_tsne = TSNE(n_components=2, learning_rate='auto', init='random', perplexity=30).fit_transform(embeddings_mu)\n",
    "\n",
    "# plt.figure()\n",
    "# plt.subplot(1,2,1)\n",
    "# plt.scatter(embeddings_pca[:,0] , embeddings_pca[:,1])\n",
    "# plt.subplot(1,2,2)\n",
    "# plt.scatter(embeddings_pca[:,0] , embeddings_pca[:,1])\n",
    "\n",
    "plt.figure()\n",
    "plt.subplot (1,2,1)\n",
    "plt.scatter(embeddings_tsne[:,0] , embeddings_tsne[:,1], c=embeddings_rt)\n",
    "plt.scatter(embeddings_tsne[:,0] , embeddings_tsne[:,1], c=embeddings_drr)\n",
    "\n",
    "\n",
    "# # use pca init for repeatable results\n",
    "# pca      = PCA(n_components=2)\n",
    "# x_reduce = pca.fit_transform(z_df)\n",
    "\n",
    "\n",
    "# emb_tsne = TSNE(n_components=2, learning_rate='auto').fit_transform(embeddings.detach().cpu().numpy())\n",
    "# plt.scatter(emb_tsne[:,0] , emb_tsne[:,1], c=category_mappings)\n",
    "# plt.show()\n",
    "\n",
    "\n",
    "# pick a random IRs for each IR choose the closest and the furthest embedding from the set of embeddings. \n",
    "\n",
    "# get info of an impulse response with a specific index\n",
    "# print(\"filename= \"+ IrData[\"filepath\"][2])\n",
    "# print(\"rt= \"+ str(IrData[\"rt\"][2]))\n",
    "# print(\"drr= \"+ str(IrData[\"drr\"][2]))\n",
    "\n",
    "# convolve signal with a closest and furthest ir - the one with closest should sound similar and the one with furthest should sound different\n",
    "\n",
    "# y = signal.fftconvolve(x, h, mode = 'full')\n",
    "# sf.write(\"convolved.wav\", y.T, sr_h, subtype='PCM_24')\n",
    "# sf.write(\"anechoic.wav\", x.T, sr_h, subtype='PCM_24')\n",
    "\n",
    "\n",
    "\n",
    "# # plot parameters of impulse responses in the data  \n",
    "# fig, ax = plt.subplots()\n",
    "# ax.scatter(x=IrData[\"rt\"][0:11331], y=IrData[\"drr\"][0:11331],label=\"Arni\", alpha=0.2)\n",
    "# ax.scatter(x=IrData[\"rt\"][11331:], y=IrData[\"drr\"][11331:],label=\"BUT\",alpha=0.2)\n",
    "# plt.xlabel(\"T60\")\n",
    "# plt.ylabel(\"DRR\")\n",
    "# plt.legend()\n",
    "# ax.set(title=\"Two IR data bases\")\n",
    "# plt.show()\n",
    "\n",
    "# fig, ax = plt.subplots()\n",
    "# ax.scatter(x=IrData[\"rt\"], y=IrData[\"drr\"],c=IrData[\"cte\"], alpha=0.2)\n",
    "# sc1=plt.xlabel(\"T60\")\n",
    "# sc2=plt.ylabel(\"DRR\")\n",
    "# ax.set(title=\"Early to late reflections (CTE) \")\n",
    "# plt.show()\n",
    "\n",
    "# fig, ax = plt.subplots()\n",
    "# ax.scatter(x=IrData[\"rt\"], y=IrData[\"drr\"],c=IrData[\"edt\"], alpha=0.2)\n",
    "# plt.xlabel(\"T60\")\n",
    "# plt.ylabel(\"DRR\")\n",
    "# ax.set(title=\"Early decay time (EDT)\")\n",
    "# plt.show()"
   ]
  },
  {
   "cell_type": "code",
   "execution_count": null,
   "metadata": {},
   "outputs": [],
   "source": [
    "# get info of an impulse response with a specific index\n",
    "filename= IrData[\"filepath\"][1200]\n",
    "# load chosen RIR\n",
    "h, sr_h= torchaudio.load(filename)\n",
    "# load anechoic sound file\n",
    "x, sr_x=torchaudio.load(\"anechoic.wav\")\n",
    "# resample anechoic signal\n",
    "x=torchaudio.transforms.Resample(sr_x,sr_h)(x)\n",
    "# convolve anechoic signal with RIR: y=x*h\n",
    "y = signal.fftconvolve(x, h, mode = 'full')\n",
    "# set signal levels\n",
    "x=x.numpy()\n",
    "x=helpers.set_level(x,-30)\n",
    "y=helpers.set_level(y,-30)\n",
    "# save signals\n",
    "sf.write(\"convolved.wav\", y.T, sr_h, subtype='PCM_24')\n",
    "sf.write(\"anechoic.wav\", x.T, sr_h, subtype='PCM_24')"
   ]
  },
  {
   "cell_type": "code",
   "execution_count": null,
   "metadata": {},
   "outputs": [],
   "source": [
    "Audio('convolved.wav')"
   ]
  },
  {
   "cell_type": "code",
   "execution_count": null,
   "metadata": {},
   "outputs": [],
   "source": [
    "Audio('anechoic.wav')"
   ]
  }
 ],
 "metadata": {
  "kernelspec": {
   "display_name": "testenv",
   "language": "python",
   "name": "python3"
  },
  "language_info": {
   "codemirror_mode": {
    "name": "ipython",
    "version": 3
   },
   "file_extension": ".py",
   "mimetype": "text/x-python",
   "name": "python",
   "nbconvert_exporter": "python",
   "pygments_lexer": "ipython3",
   "version": "3.8.10"
  },
  "vscode": {
   "interpreter": {
    "hash": "ce963d0b11d3bbec7fb5cbe3b3e5eb22455c53ff6b457d89286ef32149820fa3"
   }
  }
 },
 "nbformat": 4,
 "nbformat_minor": 2
}
